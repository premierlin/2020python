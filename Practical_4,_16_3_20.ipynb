{
  "nbformat": 4,
  "nbformat_minor": 0,
  "metadata": {
    "colab": {
      "name": "Practical 4, 16/3/20",
      "provenance": [],
      "collapsed_sections": [],
      "include_colab_link": true
    },
    "kernelspec": {
      "name": "python3",
      "display_name": "Python 3"
    }
  },
  "cells": [
    {
      "cell_type": "markdown",
      "metadata": {
        "id": "view-in-github",
        "colab_type": "text"
      },
      "source": [
        "<a href=\"https://colab.research.google.com/github/premierlin/2020python/blob/master/Practical_4%2C_16_3_20.ipynb\" target=\"_parent\"><img src=\"https://colab.research.google.com/assets/colab-badge.svg\" alt=\"Open In Colab\"/></a>"
      ]
    },
    {
      "cell_type": "markdown",
      "metadata": {
        "id": "jp3BkDml8xiR",
        "colab_type": "text"
      },
      "source": [
        "# **2020 Python Programming Practical 4**\n",
        "\n",
        "If you do not have one already, create a [GitHub](https://github.com) account using your DHS Mail.\n",
        "\n",
        "Create a public repository 2020python\n",
        "\n",
        "File --> Save a copy in GitHub under your 2020python repository\n",
        "\n",
        "Also share this colab file with edit access with computing@dhs.sg\n",
        "\n"
      ]
    },
    {
      "cell_type": "markdown",
      "metadata": {
        "id": "-U8w0oQW9P_b",
        "colab_type": "text"
      },
      "source": [
        "**Q1. (Summing series 1)**  \n",
        "Write a recursive function sum_series1(i) to compute the following series:   \n",
        "m(i) = 1 + ½ + ⅓ + … + 1/i\n"
      ]
    },
    {
      "cell_type": "code",
      "metadata": {
        "id": "D0uTR7B-8qbF",
        "colab_type": "code",
        "outputId": "6b16b79a-7037-4f86-8670-20b912781ee7",
        "colab": {
          "base_uri": "https://localhost:8080/",
          "height": 34
        }
      },
      "source": [
        "def sum_series1(i):\n",
        "  sumseries = 0\n",
        "  for n in range(1, i+1):\n",
        "    sumseries += 1/n\n",
        "  print(sumseries)\n",
        "\n",
        "sum_series1(3)"
      ],
      "execution_count": 0,
      "outputs": [
        {
          "output_type": "stream",
          "text": [
            "1.8333333333333333\n"
          ],
          "name": "stdout"
        }
      ]
    },
    {
      "cell_type": "markdown",
      "metadata": {
        "id": "7Ui5CuS_9Za1",
        "colab_type": "text"
      },
      "source": [
        "**Q2. (Summing series 2)**  \n",
        "Write a recursive function sum_series2(i) to compute the following series:   \n",
        "m(i) = ⅓ + ⅖ + 3/7 + 4/9 + 5/11 + 6/13 + … + i/(2i+1)\n"
      ]
    },
    {
      "cell_type": "code",
      "metadata": {
        "id": "CfkRAAWV9cXS",
        "colab_type": "code",
        "outputId": "b7c7d8db-24f2-4e1f-d4e3-2c7e7505e376",
        "colab": {
          "base_uri": "https://localhost:8080/",
          "height": 34
        }
      },
      "source": [
        "def sum_series2(i):\n",
        "  sumseries2 = 0\n",
        "  for n in range(1,i+1):\n",
        "    sumseries2 += n/(n*2+1)\n",
        "  print(sumseries2)\n",
        "\n",
        "sum_series2(3)"
      ],
      "execution_count": 0,
      "outputs": [
        {
          "output_type": "stream",
          "text": [
            "1.161904761904762\n"
          ],
          "name": "stdout"
        }
      ]
    },
    {
      "cell_type": "markdown",
      "metadata": {
        "id": "aVhHiT8w9c7d",
        "colab_type": "text"
      },
      "source": [
        "**Q3. (Computing GCD)**  \n",
        "The greatest common divisor (GCD) of two positive integers m and n, gcd(m, n) can be defined recursively as follows:  \n",
        "\n",
        "If m % n is 0, gcd(m, n) is n.  \n",
        "Otherwise, gcd(m, n) is gcd(n, m % n).  \n",
        "\n",
        "Write a recursive function gcd(m, n) to find the GCD. Write a test program that computes gcd(24, 16) and gcd(255, 25)."
      ]
    },
    {
      "cell_type": "code",
      "metadata": {
        "id": "PwRmweEa9fny",
        "colab_type": "code",
        "outputId": "37811230-c151-4116-9878-cf990a9bc98a",
        "colab": {
          "base_uri": "https://localhost:8080/",
          "height": 50
        }
      },
      "source": [
        "def gcd(m, n):\n",
        "  if m % n == 0: # terminating case\n",
        "    return n\n",
        "  else: # recursive case\n",
        "    return gcd(n, m%n)\n",
        "\n",
        "# main\n",
        "print(gcd(24, 16))\n",
        "print(gcd(255, 25))"
      ],
      "execution_count": 0,
      "outputs": [
        {
          "output_type": "stream",
          "text": [
            "8\n",
            "5\n"
          ],
          "name": "stdout"
        }
      ]
    },
    {
      "cell_type": "markdown",
      "metadata": {
        "colab_type": "text",
        "id": "wWe4kRS8ZmwP"
      },
      "source": [
        "**Q4. (Reverse the digits in an integer)**  \n",
        "Write a recursive function reverse_int(n) that reverses the digits of an integer n: \n",
        "\n",
        "For example, reverse_int(12345) displays 54321."
      ]
    },
    {
      "cell_type": "code",
      "metadata": {
        "id": "aOozTwoR9j9B",
        "colab_type": "code",
        "outputId": "0600847a-0004-4593-9683-d759f844fdf5",
        "colab": {
          "base_uri": "https://localhost:8080/",
          "height": 34
        }
      },
      "source": [
        "def reverse_int(n):\n",
        "  reverse = \"\"\n",
        "  while n >= 1:\n",
        "    reverse += str(n % 10)\n",
        "    n //= 10\n",
        "  print(reverse)\n",
        "\n",
        "reverse_int(12345)"
      ],
      "execution_count": 0,
      "outputs": [
        {
          "output_type": "stream",
          "text": [
            "54321\n"
          ],
          "name": "stdout"
        }
      ]
    },
    {
      "cell_type": "markdown",
      "metadata": {
        "id": "lE0ScX9e9kcg",
        "colab_type": "text"
      },
      "source": [
        "**Q5. (Occurrences of a specified character in a string)**  \n",
        "Write a recursive function count_letter(str, ch) that finds the number of occurrences of a specified letter ch in a string str: \n",
        "\n",
        "For example, count_letter(\"Welcome\", 'e') returns 2."
      ]
    },
    {
      "cell_type": "code",
      "metadata": {
        "id": "sE_bxwDs9mf6",
        "colab_type": "code",
        "outputId": "a76de5d1-e19a-4bd9-af64-de40f0f5383d",
        "colab": {
          "base_uri": "https://localhost:8080/",
          "height": 34
        }
      },
      "source": [
        "def count_letter(str, ch):\n",
        "  if ch in str:\n",
        "    return 1 + count_letter(str.replace(ch,'',1), ch)\n",
        "  else:\n",
        "    return 0\n",
        "\n",
        "count_letter('Welceeeome','e')\n"
      ],
      "execution_count": 28,
      "outputs": [
        {
          "output_type": "execute_result",
          "data": {
            "text/plain": [
              "5"
            ]
          },
          "metadata": {
            "tags": []
          },
          "execution_count": 28
        }
      ]
    },
    {
      "cell_type": "markdown",
      "metadata": {
        "id": "KSviQY0T9m7Q",
        "colab_type": "text"
      },
      "source": [
        "**Q6. (Summing the digits in an integer)**  \n",
        "Write a recursive function sum_digits(n) that computes the sum of the digits in an integer n: \n",
        "\n",
        "For example, sum_digits(234) returns 9."
      ]
    },
    {
      "cell_type": "code",
      "metadata": {
        "id": "YbH9Pbul9rK-",
        "colab_type": "code",
        "outputId": "6ed78b13-d091-46bd-e2f8-b53785bd00e0",
        "colab": {
          "base_uri": "https://localhost:8080/",
          "height": 34
        }
      },
      "source": [
        "def sum_digits(n):\n",
        "  num = 0\n",
        "  while n > 0:\n",
        "    num += n % 10\n",
        "    n = n // 10\n",
        "  print(num)\n",
        "\n",
        "sum_digits(238)"
      ],
      "execution_count": 7,
      "outputs": [
        {
          "output_type": "stream",
          "text": [
            "13\n"
          ],
          "name": "stdout"
        }
      ]
    },
    {
      "cell_type": "markdown",
      "metadata": {
        "id": "V9Z95nlg97e4",
        "colab_type": "text"
      },
      "source": [
        "**Q7. (Finding the largest number in an array)**  \n",
        "Write a recursive function find_largest(alist) that returns the largest integer in an array alist.  \n",
        "\n",
        "For example, given alist = [5, 1, 8, 7, 2], sum_digits(alist) returns 8.\n",
        "\n"
      ]
    },
    {
      "cell_type": "code",
      "metadata": {
        "id": "1AZvvAW499PK",
        "colab_type": "code",
        "colab": {
          "base_uri": "https://localhost:8080/",
          "height": 34
        },
        "outputId": "123784f4-7fb4-47aa-c107-a126b85577bc"
      },
      "source": [
        "def find_largest(alist):\n",
        "  alist = list(alist)\n",
        "  largest = 0\n",
        "  for n in alist:\n",
        "    if n > largest:\n",
        "      largest = n\n",
        "  print(largest)\n",
        "\n",
        "find_largest([5,1,8,7,2,4,8,3])"
      ],
      "execution_count": 87,
      "outputs": [
        {
          "output_type": "stream",
          "text": [
            "8\n"
          ],
          "name": "stdout"
        }
      ]
    },
    {
      "cell_type": "markdown",
      "metadata": {
        "colab_type": "text",
        "id": "KNHIvXFleFFH"
      },
      "source": [
        "**Q8. (Finding the number of uppercase letters in a string)**  \n",
        "Write a recursive function find_num_uppercase(str) to return the number of uppercase letters in a string str.\n",
        "\n",
        "For example, find_num_uppercase('Good MorninG!') returns 3.\n",
        "\n"
      ]
    },
    {
      "cell_type": "code",
      "metadata": {
        "id": "-CZ0M7j6eHQe",
        "colab_type": "code",
        "colab": {
          "base_uri": "https://localhost:8080/",
          "height": 34
        },
        "outputId": "77fe2788-2a77-4a6d-b6cd-dfdc0348c0bc"
      },
      "source": [
        "#not recursive though :(\n",
        "\n",
        "def find_num_uppercase(s):\n",
        "  x = 0\n",
        "  listletter = list(s)\n",
        "  for n in range(0, len(listletter)):\n",
        "    for char in listletter[n]:\n",
        "      if 65 <= ord(char) <= 90:\n",
        "        x += 1\n",
        "  return x\n",
        "\n",
        "find_num_uppercase('HOLYIcOMPLETed!')"
      ],
      "execution_count": 68,
      "outputs": [
        {
          "output_type": "execute_result",
          "data": {
            "text/plain": [
              "11"
            ]
          },
          "metadata": {
            "tags": []
          },
          "execution_count": 68
        }
      ]
    },
    {
      "cell_type": "code",
      "metadata": {
        "id": "Dyv9sQgRbeN3",
        "colab_type": "code",
        "colab": {
          "base_uri": "https://localhost:8080/",
          "height": 34
        },
        "outputId": "234b4648-9bef-41c6-dd4c-1734001ccfbc"
      },
      "source": [
        "#recursive from wurui!\n",
        "\n",
        "def find_num_uppercase(s):\n",
        "  upper=0\n",
        "  if not s:\n",
        "    return 0\n",
        "  else:\n",
        "    upper = find_num_uppercase(s[1:])\n",
        "    if 65<=ord(s[0])<=90:\n",
        "      return upper+1\n",
        "    else:\n",
        "      return upper\n",
        "\n",
        "find_num_uppercase('gOod moRNINg!')"
      ],
      "execution_count": 72,
      "outputs": [
        {
          "output_type": "execute_result",
          "data": {
            "text/plain": [
              "5"
            ]
          },
          "metadata": {
            "tags": []
          },
          "execution_count": 72
        }
      ]
    }
  ]
}